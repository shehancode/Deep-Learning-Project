{
 "cells": [
  {
   "cell_type": "code",
   "execution_count": 3,
   "id": "5d540ec7",
   "metadata": {},
   "outputs": [],
   "source": [
    "import tensorflow as tf\n",
    "from tensorflow.keras import models, layers\n",
    "import matplotlib.pyplot as plt\n"
   ]
  },
  {
   "cell_type": "code",
   "execution_count": 4,
   "id": "0bdc9b03",
   "metadata": {},
   "outputs": [],
   "source": [
    "daily_sales_numbers = [21,22,-108,31,-1,32,34,31]"
   ]
  },
  {
   "cell_type": "code",
   "execution_count": 5,
   "id": "4a8df08d",
   "metadata": {},
   "outputs": [
    {
     "data": {
      "text/plain": [
       "<TensorSliceDataset shapes: (), types: tf.int32>"
      ]
     },
     "execution_count": 5,
     "metadata": {},
     "output_type": "execute_result"
    }
   ],
   "source": [
    "tf_dataset = tf.data.Dataset.from_tensor_slices(daily_sales_numbers)\n",
    "tf_dataset"
   ]
  },
  {
   "cell_type": "code",
   "execution_count": 7,
   "id": "8f03fdfa",
   "metadata": {},
   "outputs": [
    {
     "name": "stdout",
     "output_type": "stream",
     "text": [
      "21\n",
      "22\n",
      "-108\n",
      "31\n",
      "-1\n",
      "32\n",
      "34\n",
      "31\n"
     ]
    }
   ],
   "source": [
    "for sales in tf_dataset.as_numpy_iterator():\n",
    "    print(sales)"
   ]
  },
  {
   "cell_type": "code",
   "execution_count": 8,
   "id": "62187459",
   "metadata": {},
   "outputs": [
    {
     "name": "stdout",
     "output_type": "stream",
     "text": [
      "tf.Tensor(21, shape=(), dtype=int32)\n",
      "tf.Tensor(22, shape=(), dtype=int32)\n",
      "tf.Tensor(-108, shape=(), dtype=int32)\n"
     ]
    }
   ],
   "source": [
    "for sales in tf_dataset.take(3):\n",
    "    print(sales)"
   ]
  },
  {
   "cell_type": "code",
   "execution_count": 9,
   "id": "d6b69319",
   "metadata": {},
   "outputs": [
    {
     "name": "stdout",
     "output_type": "stream",
     "text": [
      "21\n",
      "22\n",
      "31\n",
      "32\n",
      "34\n",
      "31\n"
     ]
    }
   ],
   "source": [
    "tf_dataset = tf_dataset.filter(lambda x:x>0)\n",
    "for sales in tf_dataset.as_numpy_iterator():\n",
    "    print(sales)"
   ]
  },
  {
   "cell_type": "code",
   "execution_count": 10,
   "id": "e0aab127",
   "metadata": {},
   "outputs": [
    {
     "name": "stdout",
     "output_type": "stream",
     "text": [
      "1512\n",
      "1584\n",
      "2232\n",
      "2304\n",
      "2448\n",
      "2232\n"
     ]
    }
   ],
   "source": [
    "tf_dataset = tf_dataset.map(lambda x:x*72)\n",
    "for sales in tf_dataset.as_numpy_iterator():\n",
    "    print(sales)"
   ]
  },
  {
   "cell_type": "code",
   "execution_count": 11,
   "id": "ca31004c",
   "metadata": {},
   "outputs": [
    {
     "name": "stdout",
     "output_type": "stream",
     "text": [
      "1512\n",
      "1584\n",
      "2232\n",
      "2232\n",
      "2448\n",
      "2304\n"
     ]
    }
   ],
   "source": [
    "tf_dataset = tf_dataset.shuffle(3)\n",
    "for sales in tf_dataset.as_numpy_iterator():\n",
    "    print(sales)"
   ]
  },
  {
   "cell_type": "code",
   "execution_count": 12,
   "id": "fcfd51cf",
   "metadata": {},
   "outputs": [
    {
     "name": "stdout",
     "output_type": "stream",
     "text": [
      "[1512 2304]\n",
      "[1584 2232]\n",
      "[2232 2448]\n"
     ]
    }
   ],
   "source": [
    "\"\"\"datset divided into batches. Useful when you have multi gpu environment and run each batch in difference gpus\"\"\"\n",
    "for sales_batch in tf_dataset.batch(2):\n",
    "    print(sales_batch.numpy())"
   ]
  },
  {
   "cell_type": "code",
   "execution_count": 14,
   "id": "4c726b63",
   "metadata": {},
   "outputs": [
    {
     "name": "stdout",
     "output_type": "stream",
     "text": [
      "[1584 2304]\n",
      "[2448 2232]\n",
      "[1512 2232]\n"
     ]
    }
   ],
   "source": [
    "tf_dataset = tf.data.Dataset.from_tensor_slices(daily_sales_numbers)\n",
    "tf_dataset = tf_dataset.filter(lambda x:x>0).map(lambda y:y*72).shuffle(3).batch(2)\n",
    "for sales in tf_dataset.as_numpy_iterator():\n",
    "    print(sales)"
   ]
  },
  {
   "cell_type": "code",
   "execution_count": 16,
   "id": "e11c9893",
   "metadata": {},
   "outputs": [
    {
     "name": "stdout",
     "output_type": "stream",
     "text": [
      "b'images\\\\cat\\\\Abyssinian_127_jpg.rf.b2553880d73a78e26e396fe7775f31be.jpg'\n",
      "b'images\\\\cat\\\\Abyssinian_131_jpg.rf.3aeee0801499f335e3a59b51189e1351.jpg'\n",
      "b'images\\\\cat\\\\Abyssinian_149_jpg.rf.b6b4a72a93f8bc2b239b18c5d181190c.jpg'\n",
      "b'images\\\\cat\\\\Abyssinian_15_jpg.rf.7bc44eeb9865e35cb1d5f9ef4f53b381.jpg'\n",
      "b'images\\\\cat\\\\Abyssinian_167_jpg.rf.1d367cb1cf82c1e5ebda79fda928cee5.jpg'\n"
     ]
    }
   ],
   "source": [
    "image_ds = tf.data.Dataset.list_files('images/*/*',shuffle=False)\n",
    "for img in image_ds.take(5):\n",
    "    print(img.numpy())\n"
   ]
  },
  {
   "cell_type": "code",
   "execution_count": 18,
   "id": "abcb2988",
   "metadata": {},
   "outputs": [
    {
     "name": "stdout",
     "output_type": "stream",
     "text": [
      "b'images\\\\dog\\\\pomeranian_120_jpg.rf.89b41b134a347498f6f5593819f6214e.jpg'\n",
      "b'images\\\\cat\\\\Persian_117_jpg.rf.30b82f0e3d2ae0115aaf62d09e792f1f.jpg'\n",
      "b'images\\\\cat\\\\Egyptian_Mau_108_jpg.rf.afd725b697520d03a6d12b912e6333e6.jpg'\n",
      "b'images\\\\cat\\\\Birman_144_jpg.rf.369cb41f763175f21c7cfd77e77509ec.jpg'\n",
      "b'images\\\\dog\\\\keeshond_12_jpg.rf.81daa1618b12f7cdd987dc7887ed913a.jpg'\n"
     ]
    }
   ],
   "source": [
    "image_ds = image_ds.shuffle(200)\n",
    "for img in image_ds.take(5):\n",
    "    print(img.numpy())"
   ]
  },
  {
   "cell_type": "code",
   "execution_count": null,
   "id": "880c90db",
   "metadata": {},
   "outputs": [],
   "source": [
    "class_names = ['cat','dog']"
   ]
  },
  {
   "cell_type": "code",
   "execution_count": 19,
   "id": "ffc5d535",
   "metadata": {},
   "outputs": [
    {
     "data": {
      "text/plain": [
       "275"
      ]
     },
     "execution_count": 19,
     "metadata": {},
     "output_type": "execute_result"
    }
   ],
   "source": [
    "image_count = len(image_ds)\n",
    "image_count"
   ]
  },
  {
   "cell_type": "code",
   "execution_count": 20,
   "id": "39df5b84",
   "metadata": {},
   "outputs": [],
   "source": [
    "train_size = int(image_count*0.8)\n",
    "train_ds = image_ds.take(train_size)\n",
    "test_ds = image_ds.skip(train_size)"
   ]
  },
  {
   "cell_type": "code",
   "execution_count": 21,
   "id": "d418ec39",
   "metadata": {},
   "outputs": [
    {
     "data": {
      "text/plain": [
       "220"
      ]
     },
     "execution_count": 21,
     "metadata": {},
     "output_type": "execute_result"
    }
   ],
   "source": [
    "len(train_ds)"
   ]
  },
  {
   "cell_type": "code",
   "execution_count": 22,
   "id": "cb896b35",
   "metadata": {},
   "outputs": [
    {
     "data": {
      "text/plain": [
       "55"
      ]
     },
     "execution_count": 22,
     "metadata": {},
     "output_type": "execute_result"
    }
   ],
   "source": [
    "len(test_ds)"
   ]
  },
  {
   "cell_type": "code",
   "execution_count": 23,
   "id": "b78fbfe4",
   "metadata": {},
   "outputs": [
    {
     "name": "stdout",
     "output_type": "stream",
     "text": [
      "b'images\\\\cat\\\\Sphynx_167_jpg.rf.caaec066ce0f7be7decfc147eef1e244.jpg'\n"
     ]
    }
   ],
   "source": [
    "for img in image_ds.take(1):\n",
    "    print(img.numpy())"
   ]
  },
  {
   "cell_type": "code",
   "execution_count": 30,
   "id": "603525da",
   "metadata": {},
   "outputs": [],
   "source": [
    "# s = b'images\\\\cat\\\\Sphynx_167_jpg.rf.caaec066ce0f7be7decfc147eef1e244.jpg'\n",
    "import os\n",
    "def get_label(file_path):\n",
    "    return tf.strings.split(file_path, os.path.sep)[-2]\n"
   ]
  },
  {
   "cell_type": "code",
   "execution_count": 33,
   "id": "8e98ab16",
   "metadata": {},
   "outputs": [],
   "source": [
    "def process_image(file_path):\n",
    "    label = get_label(file_path)\n",
    "    img = tf.io.read_file(file_path)\n",
    "    img = tf.image.decode_jpeg(img)\n",
    "    img = tf.image.resize(img, [128,128])\n",
    "    \n",
    "    return img, label"
   ]
  },
  {
   "cell_type": "code",
   "execution_count": 32,
   "id": "313aaae8",
   "metadata": {},
   "outputs": [
    {
     "name": "stdout",
     "output_type": "stream",
     "text": [
      "b'images\\\\dog\\\\havanese_12_jpg.rf.9a82100b6a15bb23792a4c6e53110636.jpg'\n",
      "b'images\\\\dog\\\\pomeranian_183_jpg.rf.99ea2d18b1560ce9082579726ab211a9.jpg'\n",
      "b'images\\\\dog\\\\samoyed_150_jpg.rf.7bc090c04cc30f98b1d7b597fbac029f.jpg'\n",
      "b'images\\\\cat\\\\Birman_151_jpg.rf.179ae9238f29eda8d63af4da89c48e05.jpg'\n"
     ]
    }
   ],
   "source": [
    "for t in train_ds.take(4):\n",
    "    print(t.numpy())"
   ]
  },
  {
   "cell_type": "code",
   "execution_count": 37,
   "id": "255f9201",
   "metadata": {},
   "outputs": [
    {
     "name": "stdout",
     "output_type": "stream",
     "text": [
      "label:  tf.Tensor(b'cat', shape=(), dtype=string)\n",
      "Image: tf.Tensor(\n",
      "[[[12.       16.       15.      ]\n",
      "  [12.       16.       15.      ]\n",
      "  [12.       16.       15.      ]\n",
      "  ...\n",
      "  [29.894531 40.89453  26.894531]\n",
      "  [29.       40.       26.      ]\n",
      "  [30.210938 41.210938 27.210938]]\n",
      "\n",
      " [[12.       16.       15.      ]\n",
      "  [12.       16.       15.      ]\n",
      "  [12.       16.       15.      ]\n",
      "  ...\n",
      "  [31.683594 42.683594 28.683594]\n",
      "  [30.81955  41.81955  27.81955 ]\n",
      "  [30.367188 41.367188 27.367188]]\n",
      "\n",
      " [[12.       16.       15.      ]\n",
      "  [12.       16.       15.      ]\n",
      "  [12.       16.       15.      ]\n",
      "  ...\n",
      "  [33.472656 44.472656 30.472656]\n",
      "  [32.69925  43.69925  29.69925 ]\n",
      "  [34.       45.       31.      ]]\n",
      "\n",
      " ...\n",
      "\n",
      " [[22.148438 22.148438 20.148438]\n",
      "  [20.218842 20.218842 18.218842]\n",
      "  [23.016876 23.016876 21.016876]\n",
      "  ...\n",
      "  [32.       40.       27.      ]\n",
      "  [32.570312 40.570312 27.570312]\n",
      "  [33.       41.       28.      ]]\n",
      "\n",
      " [[16.5047   19.789062 18.789062]\n",
      "  [16.525818 19.746094 18.746094]\n",
      "  [18.144592 21.300781 20.300781]\n",
      "  ...\n",
      "  [32.       40.       25.      ]\n",
      "  [32.570312 40.570312 25.570312]\n",
      "  [33.       41.       26.      ]]\n",
      "\n",
      " [[23.359375 27.359375 26.359375]\n",
      "  [17.464844 21.464844 20.464844]\n",
      "  [17.145844 21.145844 20.145844]\n",
      "  ...\n",
      "  [32.       40.       25.      ]\n",
      "  [32.570312 40.570312 25.570312]\n",
      "  [33.       41.       26.      ]]], shape=(128, 128, 3), dtype=float32)\n",
      "label:  tf.Tensor(b'dog', shape=(), dtype=string)\n",
      "Image: tf.Tensor(\n",
      "[[[143.69922  125.69922   86.79297 ]\n",
      "  [118.13672  101.21484   60.85547 ]\n",
      "  [ 93.63672   79.63672   41.69922 ]\n",
      "  ...\n",
      "  [161.79907  157.79907  145.79907 ]\n",
      "  [141.63556  137.63556  125.63556 ]\n",
      "  [165.45312  153.45312  137.45312 ]]\n",
      "\n",
      " [[144.87592  126.875916  87.969666]\n",
      "  [124.28009  107.358215  66.99884 ]\n",
      "  [ 97.56641   83.56641   45.628906]\n",
      "  ...\n",
      "  [158.94775  154.94775  142.94775 ]\n",
      "  [150.73553  146.73553  134.73553 ]\n",
      "  [160.5586   151.5586   136.34766 ]]\n",
      "\n",
      " [[142.45465  124.45465   85.5484  ]\n",
      "  [126.09375  109.171875  68.8125  ]\n",
      "  [ 96.84766   82.84766   44.910156]\n",
      "  ...\n",
      "  [146.70221  142.70221  130.70221 ]\n",
      "  [152.401    148.401    136.401   ]\n",
      "  [162.10156  155.10156  139.10156 ]]\n",
      "\n",
      " ...\n",
      "\n",
      " [[ 80.54382  108.54382  145.54382 ]\n",
      "  [ 80.28839  108.28839  145.28839 ]\n",
      "  [ 85.492004 113.492004 150.492   ]\n",
      "  ...\n",
      "  [166.70703  151.0586   126.32068 ]\n",
      "  [167.86584  150.8164   122.33716 ]\n",
      "  [170.82184  155.5523   129.39062 ]]\n",
      "\n",
      " [[ 80.83685  108.83685  145.83685 ]\n",
      "  [ 77.7215   105.7215   142.7215  ]\n",
      "  [ 82.76886  110.76886  147.76886 ]\n",
      "  ...\n",
      "  [170.73438  157.26562  131.26562 ]\n",
      "  [173.95978  156.67853  133.6004  ]\n",
      "  [175.21094  158.21094  130.21094 ]]\n",
      "\n",
      " [[ 78.92218  106.92218  143.92218 ]\n",
      "  [ 72.69623  100.69623  137.69623 ]\n",
      "  [ 83.30078  111.30078  148.30078 ]\n",
      "  ...\n",
      "  [168.49457  155.02582  129.02582 ]\n",
      "  [173.29388  156.01263  132.93451 ]\n",
      "  [177.       160.       132.      ]]], shape=(128, 128, 3), dtype=float32)\n",
      "label:  tf.Tensor(b'dog', shape=(), dtype=string)\n",
      "Image: tf.Tensor(\n",
      "[[[ 69.87726     98.713196     8.329834  ]\n",
      "  [ 49.046326    80.3421       0.54467773]\n",
      "  [ 20.026184    44.208862     0.9338379 ]\n",
      "  ...\n",
      "  [108.70923    124.99347     26.47461   ]\n",
      "  [ 89.71411     98.35419      4.069641  ]\n",
      "  [ 72.27063     98.05914      1.9735718 ]]\n",
      "\n",
      " [[ 29.37445     48.096558     2.893982  ]\n",
      "  [ 13.239319    34.438538     0.9909668 ]\n",
      "  [ 24.822632    42.74524     10.575806  ]\n",
      "  ...\n",
      "  [117.39026    149.10004     13.795349  ]\n",
      "  [ 83.46875    107.98212      4.435669  ]\n",
      "  [145.044      170.35205     13.281616  ]]\n",
      "\n",
      " [[ 20.938171    34.485046     3.7860718 ]\n",
      "  [ 19.073975    33.846252    14.582947  ]\n",
      "  [ 13.033264    30.49353      0.        ]\n",
      "  ...\n",
      "  [ 72.375916   107.27112     11.029724  ]\n",
      "  [ 64.50073     98.56207      0.23162842]\n",
      "  [180.42969    199.20795     29.912903  ]]\n",
      "\n",
      " ...\n",
      "\n",
      " [[181.93817    201.5788      19.194153  ]\n",
      "  [192.2406     203.2406      74.06641   ]\n",
      "  [171.58582    187.75702     27.215393  ]\n",
      "  ...\n",
      "  [175.6933     195.98236     20.276001  ]\n",
      "  [169.97498    188.4621      14.350403  ]\n",
      "  [168.16223    188.16223     11.162231  ]]\n",
      "\n",
      " [[174.6222     192.65845     19.975464  ]\n",
      "  [198.4544     213.3216      61.427063  ]\n",
      "  [184.51935    199.51935     46.51935   ]\n",
      "  ...\n",
      "  [193.93286    211.89105     70.19183   ]\n",
      "  [173.65112    195.90503     29.369263  ]\n",
      "  [165.69196    187.86719     15.012268  ]]\n",
      "\n",
      " [[177.59656    196.04968     21.389343  ]\n",
      "  [177.8164     197.37445     14.723206  ]\n",
      "  [183.46173    200.0672      37.637512  ]\n",
      "  ...\n",
      "  [196.84491    210.80286     97.46808   ]\n",
      "  [187.48108    208.1853      55.97827   ]\n",
      "  [165.51227    187.55951     19.919067  ]]], shape=(128, 128, 3), dtype=float32)\n"
     ]
    }
   ],
   "source": [
    "train_ds = train_ds.map(process_image)\n",
    "for img,label in train_ds.take(3):\n",
    "    print(\"label: \", label)\n",
    "    print(\"Image:\", img)\n"
   ]
  },
  {
   "cell_type": "code",
   "execution_count": 38,
   "id": "47551a67",
   "metadata": {},
   "outputs": [],
   "source": [
    "def scale(image,label):\n",
    "    return image/255, label"
   ]
  },
  {
   "cell_type": "code",
   "execution_count": 39,
   "id": "8a04a78a",
   "metadata": {},
   "outputs": [
    {
     "name": "stdout",
     "output_type": "stream",
     "text": [
      "***image:  [0.0096201 0.0096201 0.0096201]\n",
      "***label;  b'cat'\n",
      "***image:  [0.00392157 0.00392157 0.        ]\n",
      "***label;  b'dog'\n",
      "***image:  [0.78152215 0.8599535  0.95407116]\n",
      "***label;  b'dog'\n"
     ]
    }
   ],
   "source": [
    "train_ds = train_ds.map(scale)\n",
    "for image, label in train_ds.take(3):\n",
    "    print(\"***image: \",image.numpy()[0][0])\n",
    "    print(\"***label; \", label.numpy())"
   ]
  },
  {
   "cell_type": "code",
   "execution_count": null,
   "id": "b131ee57",
   "metadata": {},
   "outputs": [],
   "source": []
  }
 ],
 "metadata": {
  "kernelspec": {
   "display_name": "Python 3 (ipykernel)",
   "language": "python",
   "name": "python3"
  },
  "language_info": {
   "codemirror_mode": {
    "name": "ipython",
    "version": 3
   },
   "file_extension": ".py",
   "mimetype": "text/x-python",
   "name": "python",
   "nbconvert_exporter": "python",
   "pygments_lexer": "ipython3",
   "version": "3.8.8"
  }
 },
 "nbformat": 4,
 "nbformat_minor": 5
}
